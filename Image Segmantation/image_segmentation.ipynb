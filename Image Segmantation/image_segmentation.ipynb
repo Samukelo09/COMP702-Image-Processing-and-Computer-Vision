{
  "cells": [
    {
      "cell_type": "markdown",
      "id": "537af9d0",
      "metadata": {
        "id": "537af9d0"
      },
      "source": [
        "Image Segmentation"
      ]
    },
    {
      "cell_type": "markdown",
      "id": "58d7e714",
      "metadata": {
        "id": "58d7e714"
      },
      "source": [
        "Detection Of Discontinuities"
      ]
    },
    {
      "cell_type": "code",
      "execution_count": 41,
      "id": "072b0b31",
      "metadata": {
        "id": "072b0b31"
      },
      "outputs": [],
      "source": [
        "import cv2\n",
        "import numpy as np\n",
        "import matplotlib.pyplot as plt\n"
      ]
    },
    {
      "cell_type": "code",
      "execution_count": null,
      "id": "d1dded7b",
      "metadata": {
        "id": "d1dded7b"
      },
      "outputs": [],
      "source": [
        "# Load image in grayscale\n",
        "image = cv2.imread('input_image.jpg', cv2.IMREAD_GRAYSCALE)\n",
        "if image is None:\n",
        "    print(\"Error loading image\")\n",
        "    exit()\n"
      ]
    },
    {
      "cell_type": "code",
      "execution_count": null,
      "id": "c0698fc8",
      "metadata": {
        "id": "c0698fc8"
      },
      "outputs": [],
      "source": [
        "# Apply Gaussian blur to reduce noise\n",
        "blurred = cv2.GaussianBlur(image, (5, 5), 0)\n",
        "\n",
        "# Sobel Edge Detection\n",
        "sobel_x = cv2.Sobel(blurred, cv2.CV_64F, 1, 0, ksize=3)\n",
        "sobel_y = cv2.Sobel(blurred, cv2.CV_64F, 0, 1, ksize=3)\n",
        "\n",
        "# Calculate gradient magnitude and orientation\n",
        "gradient_magnitude = np.sqrt(sobel_x**2 + sobel_y**2)\n",
        "gradient_magnitude = np.uint8(255 * gradient_magnitude / gradient_magnitude.max())\n",
        "\n",
        "# Thresholding to create binary image\n",
        "_, edges_sobel = cv2.threshold(gradient_magnitude, 50, 255, cv2.THRESH_BINARY)\n",
        "\n",
        "# Canny Edge Detection (automatic thresholding)\n",
        "edges_canny = cv2.Canny(blurred, 100, 200)\n",
        "\n",
        "# Display results\n",
        "plt.figure(figsize=(12, 6))\n",
        "\n",
        "plt.subplot(131), plt.imshow(image, cmap='gray')\n",
        "plt.title('Original Image'), plt.axis('off')\n",
        "\n",
        "plt.subplot(132), plt.imshow(edges_sobel, cmap='gray')\n",
        "plt.title('Sobel Edge Detection'), plt.axis('off')\n",
        "\n",
        "plt.subplot(133), plt.imshow(edges_canny, cmap='gray')\n",
        "plt.title('Canny Edge Detection'), plt.axis('off')\n",
        "\n",
        "plt.tight_layout()\n",
        "plt.show()"
      ]
    }
  ],
  "metadata": {
    "kernelspec": {
      "display_name": "Python 3",
      "language": "python",
      "name": "python3"
    },
    "language_info": {
      "codemirror_mode": {
        "name": "ipython",
        "version": 3
      },
      "file_extension": ".py",
      "mimetype": "text/x-python",
      "name": "python",
      "nbconvert_exporter": "python",
      "pygments_lexer": "ipython3",
      "version": "3.10.11"
    },
    "colab": {
      "provenance": []
    }
  },
  "nbformat": 4,
  "nbformat_minor": 5
}